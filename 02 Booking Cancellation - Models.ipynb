{
 "cells": [
  {
   "cell_type": "markdown",
   "metadata": {},
   "source": [
    "## Machine Learning to Predict Booking Cancellation\n",
    "\n",
    "#### Steps:\n",
    "- Select some valuable and relevant features to our analysis by checking the correlation.\n",
    "- Compare Label Encoder and Dummy Variables to get the best encoding method to our model.\n",
    "- Feature Selection by SelectKBest.\n",
    "- Split dataset to train data and test data.\n",
    "- Predict the data by using LogisticRegression, KNNeighbors, and RandomForestClassifier.\n",
    "- Compare models and select the best.\n",
    "- Hyperparameter tuning the best default model.\n",
    "- Compare the results."
   ]
  },
  {
   "cell_type": "markdown",
   "metadata": {},
   "source": [
    "### Import Libraries"
   ]
  },
  {
   "cell_type": "code",
   "execution_count": 1,
   "metadata": {},
   "outputs": [],
   "source": [
    "import warnings\n",
    "warnings.filterwarnings('ignore')\n",
    "\n",
    "from sklearn.ensemble import RandomForestClassifier, GradientBoostingClassifier\n",
    "from sklearn.feature_selection import chi2, SelectKBest\n",
    "from sklearn.linear_model import LogisticRegression\n",
    "from sklearn.metrics import accuracy_score, auc, classification_report, confusion_matrix, roc_curve\n",
    "from sklearn.model_selection import cross_val_score, train_test_split\n",
    "from sklearn.neighbors import KNeighborsClassifier\n",
    "from sklearn.preprocessing import LabelEncoder\n",
    "from sklearn.utils import resample\n",
    "import matplotlib.pyplot as plt\n",
    "import numpy as np\n",
    "import pandas as pd\n",
    "import seaborn as sns"
   ]
  },
  {
   "cell_type": "code",
   "execution_count": 2,
   "metadata": {},
   "outputs": [],
   "source": [
    "bookings = pd.read_csv('data_cleaned.csv')"
   ]
  },
  {
   "cell_type": "markdown",
   "metadata": {},
   "source": [
    "### Numerical Feature Selection"
   ]
  },
  {
   "cell_type": "code",
   "execution_count": 3,
   "metadata": {},
   "outputs": [
    {
     "data": {
      "text/plain": [
       "is_canceled                       1.000000\n",
       "lead_time                         0.298775\n",
       "total_of_special_requests         0.231599\n",
       "required_car_parking_spaces       0.190256\n",
       "booking_changes                   0.138642\n",
       "previous_cancellations            0.117344\n",
       "agent                             0.110694\n",
       "company                           0.092282\n",
       "is_repeated_guest                 0.074339\n",
       "days_in_waiting_list              0.059361\n",
       "adults                            0.058783\n",
       "previous_bookings_not_canceled    0.053890\n",
       "price                             0.049536\n",
       "adr                               0.049323\n",
       "babies                            0.032177\n",
       "stays_in_week_nights              0.025363\n",
       "total_nights                      0.017566\n",
       "adr_pp                            0.011659\n",
       "arrival_month                     0.010551\n",
       "arrival_date_week_number          0.007728\n",
       "children                          0.006321\n",
       "arrival_date_day_of_month         0.006242\n",
       "arrival_date_year                 0.005808\n",
       "stays_in_weekend_nights           0.005232\n",
       "Name: is_canceled, dtype: float64"
      ]
     },
     "execution_count": 3,
     "metadata": {},
     "output_type": "execute_result"
    }
   ],
   "source": [
    "bookings.corr()['is_canceled'].abs().sort_values(ascending=False)"
   ]
  },
  {
   "cell_type": "markdown",
   "metadata": {},
   "source": [
    "#### Drop some irrelevant features to our analysis\n",
    "\n",
    "By looking at the correlation, we will drop some features with weak correlation and some features that irrelevant to our analysis"
   ]
  },
  {
   "cell_type": "code",
   "execution_count": 4,
   "metadata": {},
   "outputs": [],
   "source": [
    "\n",
    "bookings = bookings.drop(['arrival_date_year',\n",
    "                          'arrival_date_day_of_month', \n",
    "                          'stays_in_weekend_nights',\n",
    "                          'stays_in_week_nights', \n",
    "                          'reservation_status_date',\n",
    "                          'reservation_status',\n",
    "                          'adr_pp',\n",
    "                          'arrival_date_week_number',\n",
    "                          'arrival_month',\n",
    "                          'children'], axis=1)"
   ]
  },
  {
   "cell_type": "code",
   "execution_count": 5,
   "metadata": {},
   "outputs": [],
   "source": [
    "df_le = bookings.copy()"
   ]
  },
  {
   "cell_type": "markdown",
   "metadata": {},
   "source": [
    "#### Split dataframe to numerical features and categorical features"
   ]
  },
  {
   "cell_type": "code",
   "execution_count": 6,
   "metadata": {},
   "outputs": [],
   "source": [
    "num_features = df_le.select_dtypes(include=['int64', 'float64']).drop(['is_canceled'], axis=1).columns\n",
    "cat_features = df_le.select_dtypes(include=['object']).columns"
   ]
  },
  {
   "cell_type": "markdown",
   "metadata": {},
   "source": [
    "### Label Encoder vs. Dummy Variables"
   ]
  },
  {
   "cell_type": "markdown",
   "metadata": {},
   "source": [
    "Machine learning models requires numerical data to operate. So before we can model, we need to convert categorical variables into numerical variables. There are two methods we can use to do this: Dummy variables and LabelEncoder. With the code you see below, we create features both using LabelEncoder and using dummy variables."
   ]
  },
  {
   "cell_type": "code",
   "execution_count": 7,
   "metadata": {},
   "outputs": [],
   "source": [
    "le = LabelEncoder()\n",
    "\n",
    "for col in cat_features:\n",
    "    df_le[col] = le.fit_transform(df_le[col])"
   ]
  },
  {
   "cell_type": "code",
   "execution_count": 8,
   "metadata": {},
   "outputs": [],
   "source": [
    "new_cats = [col for col in cat_features if col in bookings.columns]\n",
    "df_hot = pd.get_dummies(data=bookings, columns=new_cats)"
   ]
  },
  {
   "cell_type": "code",
   "execution_count": 9,
   "metadata": {},
   "outputs": [],
   "source": [
    "X_hot = df_hot.drop('is_canceled', axis=1)\n",
    "X_le = df_le.drop('is_canceled', axis=1)\n",
    "y = bookings['is_canceled']"
   ]
  },
  {
   "cell_type": "markdown",
   "metadata": {},
   "source": [
    "Then we build a logistic regression model with dummy variables and examine the classification report as a first look at the data."
   ]
  },
  {
   "cell_type": "code",
   "execution_count": 10,
   "metadata": {},
   "outputs": [],
   "source": [
    "X_train, X_test, y_train, y_test = train_test_split(X_hot, y, test_size=.2, random_state=42)\n",
    "\n",
    "log = LogisticRegression().fit(X_train, y_train)\n",
    "y_pred = log.predict(X_test)"
   ]
  },
  {
   "cell_type": "code",
   "execution_count": 11,
   "metadata": {},
   "outputs": [
    {
     "data": {
      "text/plain": [
       "0.8007215007215007"
      ]
     },
     "execution_count": 11,
     "metadata": {},
     "output_type": "execute_result"
    }
   ],
   "source": [
    "accuracy_score(y_test, y_pred)"
   ]
  },
  {
   "cell_type": "code",
   "execution_count": 12,
   "metadata": {},
   "outputs": [
    {
     "name": "stdout",
     "output_type": "stream",
     "text": [
      "              precision    recall  f1-score   support\n",
      "\n",
      "           0       0.80      0.91      0.85     13065\n",
      "           1       0.80      0.62      0.70      7725\n",
      "\n",
      "    accuracy                           0.80     20790\n",
      "   macro avg       0.80      0.76      0.77     20790\n",
      "weighted avg       0.80      0.80      0.79     20790\n",
      "\n"
     ]
    }
   ],
   "source": [
    "print(classification_report(y_test, y_pred))"
   ]
  },
  {
   "cell_type": "markdown",
   "metadata": {},
   "source": [
    "#### Feature Selection by SelectKBest\n",
    "\n",
    "Feature selection is one of the most important issues for feature engineering. Here we will use SelectKBest, a popular feature selection algorithm for classification problems. Our scoring function will be chi²"
   ]
  },
  {
   "cell_type": "code",
   "execution_count": 13,
   "metadata": {},
   "outputs": [],
   "source": [
    "def select(X):\n",
    "    selects = []\n",
    "    \n",
    "    selector = SelectKBest(chi2, k='all').fit(X, y)\n",
    "    scores = selector.scores_\n",
    "        \n",
    "    q3 = np.quantile(scores, 0.75)\n",
    "    q1 = np.quantile(scores, 0.25)\n",
    "    iqr = q3 - q1\n",
    "    threshold = q3 + 1.5 * iqr\n",
    "\n",
    "    for col, val in zip(X.columns, scores):\n",
    "        cond1 = val > threshold\n",
    "        cond2 = col in df_hot.columns\n",
    "        \n",
    "        if cond1 and cond2:\n",
    "            if col not in df_hot.columns:\n",
    "                df_hot.loc[:, col] = 0\n",
    "            selects.append(col)\n",
    "        \n",
    "    return selects"
   ]
  },
  {
   "cell_type": "code",
   "execution_count": 14,
   "metadata": {},
   "outputs": [],
   "source": [
    "selects_hot = select(X_hot)\n",
    "selects_le = select(X_le)"
   ]
  },
  {
   "cell_type": "markdown",
   "metadata": {},
   "source": [
    "Then we compare these features in a simple way."
   ]
  },
  {
   "cell_type": "code",
   "execution_count": 15,
   "metadata": {},
   "outputs": [],
   "source": [
    "def compare():\n",
    "    for is_le in [True, False]:\n",
    "        method = 'label encoder'\n",
    "        \n",
    "        if is_le:\n",
    "            selected = df_le[selects_le + ['is_canceled']]\n",
    "        else:\n",
    "            selected = df_hot[selects_hot + ['is_canceled']]\n",
    "            method = 'dummy variables'\n",
    "        \n",
    "        # separate majority and minority classes\n",
    "        major = selected[selected['is_canceled'] == 0]\n",
    "        minor = selected[selected['is_canceled'] == 1]\n",
    "\n",
    "        # downsample majority class\n",
    "        downsampled = resample(major, replace=False, n_samples=len(minor), random_state=123) \n",
    "\n",
    "        # combine minority class with downsampled majority class\n",
    "        df_new = pd.concat([downsampled, minor])\n",
    "    \n",
    "        X = df_new.drop('is_canceled', axis=1)\n",
    "        y = df_new['is_canceled']\n",
    "\n",
    "        X_train, X_test, y_train, y_test = train_test_split(X, y, test_size=.2, random_state=42)\n",
    "\n",
    "        log = LogisticRegression().fit(X_train, y_train)\n",
    "        y_pred = log.predict(X_test)\n",
    "\n",
    "        print(f'Accuracy for {method}: {accuracy_score(y_test, y_pred)}')\n",
    "        print(f'Classification report for {method}:\\n{classification_report(y_test, y_pred)}')"
   ]
  },
  {
   "cell_type": "code",
   "execution_count": 16,
   "metadata": {
    "scrolled": false
   },
   "outputs": [
    {
     "name": "stdout",
     "output_type": "stream",
     "text": [
      "Accuracy for label encoder: 0.6201271047631527\n",
      "Classification report for label encoder:\n",
      "              precision    recall  f1-score   support\n",
      "\n",
      "           0       0.61      0.69      0.65      7683\n",
      "           1       0.64      0.55      0.59      7580\n",
      "\n",
      "    accuracy                           0.62     15263\n",
      "   macro avg       0.62      0.62      0.62     15263\n",
      "weighted avg       0.62      0.62      0.62     15263\n",
      "\n",
      "Accuracy for dummy variables: 0.7681320841250082\n",
      "Classification report for dummy variables:\n",
      "              precision    recall  f1-score   support\n",
      "\n",
      "           0       0.75      0.81      0.78      7683\n",
      "           1       0.79      0.72      0.76      7580\n",
      "\n",
      "    accuracy                           0.77     15263\n",
      "   macro avg       0.77      0.77      0.77     15263\n",
      "weighted avg       0.77      0.77      0.77     15263\n",
      "\n"
     ]
    }
   ],
   "source": [
    "compare()"
   ]
  },
  {
   "cell_type": "markdown",
   "metadata": {},
   "source": [
    "From comparison above, we can see using Dummy Variables to encode the categorical features is far better than using Label Encoder. Hence, we will use dataframe with dummy variables in building prediction model."
   ]
  },
  {
   "cell_type": "code",
   "execution_count": 17,
   "metadata": {},
   "outputs": [],
   "source": [
    "last = df_hot[selects_hot + ['is_canceled']]\n",
    "\n",
    "X_last = last.drop('is_canceled', axis=1)\n",
    "y_last = last['is_canceled']"
   ]
  },
  {
   "cell_type": "code",
   "execution_count": 18,
   "metadata": {},
   "outputs": [],
   "source": [
    "selected = df_hot[selects_hot + ['is_canceled']]"
   ]
  },
  {
   "cell_type": "code",
   "execution_count": 19,
   "metadata": {},
   "outputs": [
    {
     "data": {
      "image/png": "[encoded data removed]",
      "text/plain": [
       "<Figure size 432x288 with 1 Axes>"
      ]
     },
     "metadata": {},
     "output_type": "display_data"
    }
   ],
   "source": [
    "sns.set(style = 'white')\n",
    "plt.title('Count of Cancellation', fontdict = {'fontsize': 12})\n",
    "ax = sns.countplot(x='is_canceled', data=selected, palette='bright')\n",
    "for p in ax.patches:\n",
    "    ax.annotate((p.get_height()),(p.get_x()+0.32 , p.get_height()+100))"
   ]
  },
  {
   "cell_type": "markdown",
   "metadata": {},
   "source": [
    "### Handling Imbalanced Data\n",
    "\n",
    "From the boxplot above, seems like number of cancellation and number of success reservations are still imbalance. We try to balance them by downsampling the majority classes and combine it with minority classes. Let's see the code below.\n",
    "\n",
    "#### Notes:\n",
    "\n",
    "- Majority Class: The class (or classes) in an imbalanced classification predictive modeling problem that has many examples.\n",
    "- Minority Class: The class in an imbalanced classification predictive modeling problem that has few examples."
   ]
  },
  {
   "cell_type": "code",
   "execution_count": 20,
   "metadata": {},
   "outputs": [
    {
     "data": {
      "text/plain": [
       "1    38157\n",
       "0    38157\n",
       "Name: is_canceled, dtype: int64"
      ]
     },
     "execution_count": 20,
     "metadata": {},
     "output_type": "execute_result"
    }
   ],
   "source": [
    "# separate majority and minority classes\n",
    "major = selected[selected['is_canceled'] == 0]\n",
    "minor = selected[selected['is_canceled'] == 1]\n",
    "\n",
    "# downsample majority class\n",
    "downsampled = resample(major, replace=False, n_samples=len(minor), random_state=123) \n",
    "\n",
    "# combine minority class with downsampled majority class\n",
    "df_new = pd.concat([downsampled, minor])\n",
    "\n",
    "# display new class counts\n",
    "df_new['is_canceled'].value_counts()"
   ]
  },
  {
   "cell_type": "markdown",
   "metadata": {},
   "source": [
    " Data of cancellation and succes reservations is already balanced."
   ]
  },
  {
   "cell_type": "code",
   "execution_count": 21,
   "metadata": {},
   "outputs": [],
   "source": [
    "X = df_new.drop('is_canceled', axis=1)\n",
    "y = df_new['is_canceled']"
   ]
  },
  {
   "cell_type": "markdown",
   "metadata": {},
   "source": [
    "### Split dataset into Train and Test\n",
    "\n",
    "- Train size = .8\n",
    "- Test sixe = .2"
   ]
  },
  {
   "cell_type": "code",
   "execution_count": 22,
   "metadata": {},
   "outputs": [],
   "source": [
    "X_train, X_test, y_train, y_test = train_test_split(X, y, test_size=.2, random_state=42)"
   ]
  },
  {
   "cell_type": "markdown",
   "metadata": {},
   "source": [
    "#### Create Class to store metrics and Plot ROC Curve function"
   ]
  },
  {
   "cell_type": "code",
   "execution_count": 23,
   "metadata": {},
   "outputs": [],
   "source": [
    "class Report:\n",
    "    def __init__(self, X_test, y_test):\n",
    "        self.X = X_test\n",
    "        self.y = y_test\n",
    "    \n",
    "    def metrics(self, model):\n",
    "        y_pred = model.predict(self.X)\n",
    "        \n",
    "        print('Accuracy score:\\n')\n",
    "        print(accuracy_score(self.y, y_pred))\n",
    "        \n",
    "        print('\\nConfusion Matrix:\\n')\n",
    "        print(confusion_matrix(self.y, y_pred))\n",
    "        \n",
    "        print('\\nClassification Report:\\n')\n",
    "        print(classification_report(self.y, y_pred))\n",
    "    \n",
    "    def plot_roc_curve(self, model, part='h1', save=False):\n",
    "        probs = model.predict_proba(self.X)\n",
    "        preds = probs[:, 1]\n",
    "\n",
    "        fpr, tpr, threshold = roc_curve(self.y, preds)\n",
    "        roc_auc = auc(fpr, tpr)\n",
    "\n",
    "        plt.title('Receiver Operating Characteristic')\n",
    "        plt.plot(fpr, tpr, 'b', label='AUC = %0.2f' % roc_auc)\n",
    "        plt.legend(loc='lower right')\n",
    "        plt.plot([0, 1], [0, 1], 'r--')\n",
    "        plt.xlim([0, 1])\n",
    "        plt.ylim([0, 1])\n",
    "        plt.ylabel('True Positive Rate')\n",
    "        plt.xlabel('False Positive Rate')\n",
    "        \n",
    "        if save:\n",
    "            name = model.__class__.__name__\n",
    "            plt.savefig(f'./images/{name}_{part}.png')\n",
    "        plt.show()"
   ]
  },
  {
   "cell_type": "code",
   "execution_count": 24,
   "metadata": {},
   "outputs": [],
   "source": [
    "report = Report(X_test, y_test)"
   ]
  },
  {
   "cell_type": "markdown",
   "metadata": {},
   "source": [
    "### Modelling"
   ]
  },
  {
   "cell_type": "markdown",
   "metadata": {},
   "source": [
    "We will use 3 classification models for our predictive Machine Learnig. Those are:\n",
    "- Logistic Regression: a Machine Learning classification algorithm that is used to predict the probability of a categorical dependent variable. In logistic regression, the dependent variable is a binary variable that contains data coded as 1 (yes, success, etc.) or 0 (no, failure, etc.). In other words, the logistic regression model predicts P(Y=1) as a function of X.\n",
    "- K-Nearest-Neighbors: a simple algorithm that stores all the available cases and classifies the new data or case based on a similarity measure. It is mostly used to classifies a data point based on how its neighbours are classified.\n",
    "- Random Forest Classifier: "
   ]
  },
  {
   "cell_type": "markdown",
   "metadata": {},
   "source": [
    "#### 1. Logistic Regression"
   ]
  },
  {
   "cell_type": "code",
   "execution_count": 25,
   "metadata": {},
   "outputs": [
    {
     "name": "stdout",
     "output_type": "stream",
     "text": [
      "Accuracy score:\n",
      "\n",
      "0.7681320841250082\n",
      "\n",
      "Confusion Matrix:\n",
      "\n",
      "[[6255 1428]\n",
      " [2111 5469]]\n",
      "\n",
      "Classification Report:\n",
      "\n",
      "              precision    recall  f1-score   support\n",
      "\n",
      "           0       0.75      0.81      0.78      7683\n",
      "           1       0.79      0.72      0.76      7580\n",
      "\n",
      "    accuracy                           0.77     15263\n",
      "   macro avg       0.77      0.77      0.77     15263\n",
      "weighted avg       0.77      0.77      0.77     15263\n",
      "\n"
     ]
    },
    {
     "data": {
      "image/png": "[encoded data removed]",
      "text/plain": [
       "<Figure size 432x288 with 1 Axes>"
      ]
     },
     "metadata": {},
     "output_type": "display_data"
    }
   ],
   "source": [
    "log = LogisticRegression().fit(X_train, y_train)\n",
    "\n",
    "report.metrics(log)\n",
    "report.plot_roc_curve(log)"
   ]
  },
  {
   "cell_type": "code",
   "execution_count": 59,
   "metadata": {},
   "outputs": [
    {
     "name": "stdout",
     "output_type": "stream",
     "text": [
      "LogisticRegression Cross Validation Score: 0.7650537163730871\n",
      "LogisticRegression Train Score: 0.7644756023652356\n",
      "LogisticRegression Test Score: 0.7681320841250082\n",
      "[[0.37918025 0.62081975]\n",
      " [0.08485902 0.91514098]\n",
      " [0.00830363 0.99169637]\n",
      " ...\n",
      " [0.28848875 0.71151125]\n",
      " [0.18233783 0.81766217]\n",
      " [0.30068531 0.69931469]]\n"
     ]
    }
   ],
   "source": [
    "from sklearn.metrics import recall_score\n",
    "\n",
    "log_score = cross_val_score(log, X_test, y_test, cv=10).mean()\n",
    "log_trainScore = log.score(X_train, y_train)\n",
    "log_testScore = log.score(X_test, y_test)\n",
    "\n",
    "print('LogisticRegression Cross Validation Score: {}'.format(log_score))\n",
    "print('LogisticRegression Train Score: {}'.format(log_trainScore))\n",
    "print('LogisticRegression Test Score: {}'.format(log_testScore))"
   ]
  },
  {
   "cell_type": "markdown",
   "metadata": {},
   "source": [
    "#### 2. K-Nearest Neighbors"
   ]
  },
  {
   "cell_type": "code",
   "execution_count": 28,
   "metadata": {},
   "outputs": [],
   "source": [
    "knn = KNeighborsClassifier().fit(X_train, y_train)"
   ]
  },
  {
   "cell_type": "code",
   "execution_count": 29,
   "metadata": {},
   "outputs": [
    {
     "name": "stdout",
     "output_type": "stream",
     "text": [
      "Accuracy score:\n",
      "\n",
      "0.7386490205071087\n",
      "\n",
      "Confusion Matrix:\n",
      "\n",
      "[[5652 2031]\n",
      " [1958 5622]]\n",
      "\n",
      "Classification Report:\n",
      "\n",
      "              precision    recall  f1-score   support\n",
      "\n",
      "           0       0.74      0.74      0.74      7683\n",
      "           1       0.73      0.74      0.74      7580\n",
      "\n",
      "    accuracy                           0.74     15263\n",
      "   macro avg       0.74      0.74      0.74     15263\n",
      "weighted avg       0.74      0.74      0.74     15263\n",
      "\n"
     ]
    },
    {
     "data": {
      "image/png": "[encoded data removed]",
      "text/plain": [
       "<Figure size 432x288 with 1 Axes>"
      ]
     },
     "metadata": {},
     "output_type": "display_data"
    }
   ],
   "source": [
    "report.metrics(knn)\n",
    "report.plot_roc_curve(knn)"
   ]
  },
  {
   "cell_type": "code",
   "execution_count": 30,
   "metadata": {},
   "outputs": [
    {
     "name": "stdout",
     "output_type": "stream",
     "text": [
      "KNN Cross Validation Score: 0.6842693036912679\n",
      "KNN Train Score: 0.8260634551440599\n",
      "KNN Test Score: 0.7386490205071087\n"
     ]
    }
   ],
   "source": [
    "knn_score = cross_val_score(knn, X_test, y_test, cv=10).mean()\n",
    "knn_trainScore = knn.score(X_train, y_train)\n",
    "knn_testScore = knn.score(X_test, y_test)\n",
    "\n",
    "print('KNN Cross Validation Score: {}'.format(knn_score))\n",
    "print('KNN Train Score: {}'.format(knn_trainScore))\n",
    "print('KNN Test Score: {}'.format(knn_testScore))"
   ]
  },
  {
   "cell_type": "markdown",
   "metadata": {},
   "source": [
    "#### 3. Random Forest Classifer"
   ]
  },
  {
   "cell_type": "code",
   "execution_count": 31,
   "metadata": {},
   "outputs": [],
   "source": [
    "rfc = RandomForestClassifier().fit(X_train, y_train)"
   ]
  },
  {
   "cell_type": "code",
   "execution_count": 32,
   "metadata": {},
   "outputs": [
    {
     "name": "stdout",
     "output_type": "stream",
     "text": [
      "Accuracy score:\n",
      "\n",
      "0.8717159143025618\n",
      "\n",
      "Confusion Matrix:\n",
      "\n",
      "[[6729  954]\n",
      " [1004 6576]]\n",
      "\n",
      "Classification Report:\n",
      "\n",
      "              precision    recall  f1-score   support\n",
      "\n",
      "           0       0.87      0.88      0.87      7683\n",
      "           1       0.87      0.87      0.87      7580\n",
      "\n",
      "    accuracy                           0.87     15263\n",
      "   macro avg       0.87      0.87      0.87     15263\n",
      "weighted avg       0.87      0.87      0.87     15263\n",
      "\n"
     ]
    },
    {
     "data": {
      "image/png": "[encoded data removed]",
      "text/plain": [
       "<Figure size 432x288 with 1 Axes>"
      ]
     },
     "metadata": {},
     "output_type": "display_data"
    }
   ],
   "source": [
    "report.metrics(rfc)\n",
    "report.plot_roc_curve(rfc)"
   ]
  },
  {
   "cell_type": "code",
   "execution_count": 49,
   "metadata": {},
   "outputs": [
    {
     "name": "stdout",
     "output_type": "stream",
     "text": [
      "RandomForest Cross Validation Score: 0.8577615159544107\n",
      "RandomForest Train Score: 0.9949877970876808\n",
      "RandomForest Test Score: 0.8717159143025618\n"
     ]
    }
   ],
   "source": [
    "rfc_score = cross_val_score(rfc, X_test, y_test, cv=10).mean()\n",
    "rfc_trainScore = rfc.score(X_train, y_train)\n",
    "rfc_testScore = rfc.score(X_test, y_test)\n",
    "\n",
    "print('RandomForest Cross Validation Score: {}'.format(rfc_score))\n",
    "print('RandomForest Train Score: {}'.format(rfc_trainScore))\n",
    "print('RandomForest Test Score: {}'.format(rfc_testScore))"
   ]
  },
  {
   "cell_type": "code",
   "execution_count": 34,
   "metadata": {
    "scrolled": true
   },
   "outputs": [
    {
     "data": {
      "text/html": [
       "<div>\n",
       "<style scoped>\n",
       "    .dataframe tbody tr th:only-of-type {\n",
       "        vertical-align: middle;\n",
       "    }\n",
       "\n",
       "    .dataframe tbody tr th {\n",
       "        vertical-align: top;\n",
       "    }\n",
       "\n",
       "    .dataframe thead th {\n",
       "        text-align: right;\n",
       "    }\n",
       "</style>\n",
       "<table border=\"1\" class=\"dataframe\">\n",
       "  <thead>\n",
       "    <tr style=\"text-align: right;\">\n",
       "      <th></th>\n",
       "      <th>Model</th>\n",
       "      <th>CrossVal Score</th>\n",
       "      <th>Train Score</th>\n",
       "      <th>Test Score</th>\n",
       "    </tr>\n",
       "  </thead>\n",
       "  <tbody>\n",
       "    <tr>\n",
       "      <td>0</td>\n",
       "      <td>LogRegression</td>\n",
       "      <td>0.765054</td>\n",
       "      <td>0.764476</td>\n",
       "      <td>0.768132</td>\n",
       "    </tr>\n",
       "    <tr>\n",
       "      <td>1</td>\n",
       "      <td>KNNeighbors</td>\n",
       "      <td>0.684269</td>\n",
       "      <td>0.826063</td>\n",
       "      <td>0.738649</td>\n",
       "    </tr>\n",
       "    <tr>\n",
       "      <td>2</td>\n",
       "      <td>RandomForest</td>\n",
       "      <td>0.856845</td>\n",
       "      <td>0.994988</td>\n",
       "      <td>0.871716</td>\n",
       "    </tr>\n",
       "  </tbody>\n",
       "</table>\n",
       "</div>"
      ],
      "text/plain": [
       "           Model  CrossVal Score  Train Score  Test Score\n",
       "0  LogRegression        0.765054     0.764476    0.768132\n",
       "1    KNNeighbors        0.684269     0.826063    0.738649\n",
       "2   RandomForest        0.856845     0.994988    0.871716"
      ]
     },
     "execution_count": 34,
     "metadata": {},
     "output_type": "execute_result"
    }
   ],
   "source": [
    "compare_score = pd.DataFrame({'Model' : ['LogRegression', 'KNNeighbors', 'RandomForest'], \n",
    "                              'CrossVal Score': [log_score, knn_score, rfc_score],\n",
    "                             'Train Score': [log_trainScore, knn_trainScore, rfc_trainScore],\n",
    "                             'Test Score': [log_testScore, knn_testScore, rfc_testScore]})\n",
    "\n",
    "compare_score.head()"
   ]
  },
  {
   "cell_type": "markdown",
   "metadata": {},
   "source": [
    "From default models above, we can see RandomForestClassifer has the best cross validation score and best model score with train & test data. Therefore, we choose it as our prediction model. Let's try tuning the hyperparameter to get the better result."
   ]
  },
  {
   "cell_type": "markdown",
   "metadata": {},
   "source": [
    "### HyperParameter tuning using GridSearchCV"
   ]
  },
  {
   "cell_type": "code",
   "execution_count": 36,
   "metadata": {},
   "outputs": [],
   "source": [
    "rfc_params = {\n",
    "    'max_depth': [5, 10, 15, 20],\n",
    "    'max_features': [2, 3, 5],\n",
    "    'n_estimators': [100, 500, 1000],\n",
    "    'min_samples_split': [5, 10, 15],\n",
    "}"
   ]
  },
  {
   "cell_type": "code",
   "execution_count": 37,
   "metadata": {},
   "outputs": [],
   "source": [
    "from sklearn.model_selection import GridSearchCV\n",
    "params = {\n",
    "    'estimator': rfc,\n",
    "    'param_grid': rfc_params,\n",
    "    'cv': 5,\n",
    "    'refit': False,\n",
    "    'n_jobs': -1,\n",
    "    'verbose': 2,\n",
    "    'scoring': 'recall',\n",
    "}\n",
    "rfc_cv = GridSearchCV(**params)"
   ]
  },
  {
   "cell_type": "code",
   "execution_count": 38,
   "metadata": {},
   "outputs": [
    {
     "name": "stdout",
     "output_type": "stream",
     "text": [
      "Fitting 5 folds for each of 108 candidates, totalling 540 fits\n"
     ]
    },
    {
     "name": "stderr",
     "output_type": "stream",
     "text": [
      "[Parallel(n_jobs=-1)]: Using backend LokyBackend with 8 concurrent workers.\n",
      "[Parallel(n_jobs=-1)]: Done  25 tasks      | elapsed:   36.8s\n",
      "[Parallel(n_jobs=-1)]: Done 146 tasks      | elapsed:  4.0min\n",
      "[Parallel(n_jobs=-1)]: Done 349 tasks      | elapsed: 13.6min\n",
      "[Parallel(n_jobs=-1)]: Done 540 out of 540 | elapsed: 45.8min finished\n"
     ]
    }
   ],
   "source": [
    "model = rfc_cv.fit(X_train, y_train)"
   ]
  },
  {
   "cell_type": "code",
   "execution_count": 39,
   "metadata": {},
   "outputs": [
    {
     "data": {
      "text/plain": [
       "{'max_depth': 20,\n",
       " 'max_features': 5,\n",
       " 'min_samples_split': 5,\n",
       " 'n_estimators': 500}"
      ]
     },
     "execution_count": 39,
     "metadata": {},
     "output_type": "execute_result"
    }
   ],
   "source": [
    "rfc_cv.best_params_"
   ]
  },
  {
   "cell_type": "code",
   "execution_count": 40,
   "metadata": {},
   "outputs": [],
   "source": [
    "rf = RandomForestClassifier(**rfc_cv.best_params_).fit(X_train, y_train)"
   ]
  },
  {
   "cell_type": "code",
   "execution_count": 41,
   "metadata": {},
   "outputs": [
    {
     "name": "stdout",
     "output_type": "stream",
     "text": [
      "Accuracy score:\n",
      "\n",
      "0.8711262530302037\n",
      "\n",
      "Confusion Matrix:\n",
      "\n",
      "[[6761  922]\n",
      " [1045 6535]]\n",
      "\n",
      "Classification Report:\n",
      "\n",
      "              precision    recall  f1-score   support\n",
      "\n",
      "           0       0.87      0.88      0.87      7683\n",
      "           1       0.88      0.86      0.87      7580\n",
      "\n",
      "    accuracy                           0.87     15263\n",
      "   macro avg       0.87      0.87      0.87     15263\n",
      "weighted avg       0.87      0.87      0.87     15263\n",
      "\n"
     ]
    },
    {
     "data": {
      "image/png": "[encoded data removed]",
      "text/plain": [
       "<Figure size 432x288 with 1 Axes>"
      ]
     },
     "metadata": {},
     "output_type": "display_data"
    }
   ],
   "source": [
    "report.metrics(rf)\n",
    "report.plot_roc_curve(rf)"
   ]
  },
  {
   "cell_type": "code",
   "execution_count": 51,
   "metadata": {},
   "outputs": [
    {
     "name": "stdout",
     "output_type": "stream",
     "text": [
      "RandomForest Cross Validation Score: 0.8550102952447899\n",
      "RandomForest Train Score: 0.9072087271297767\n",
      "RandomForest Test Score: 0.8711262530302037\n"
     ]
    }
   ],
   "source": [
    "rf_score = cross_val_score(rf, X_test, y_test, cv=10).mean()\n",
    "rf_trainScore = rf.score(X_train, y_train)\n",
    "rf_testScore = rf.score(X_test, y_test)\n",
    "\n",
    "print('RandomForest Cross Validation Score: {}'.format(rf_score))\n",
    "print('RandomForest Train Score: {}'.format(rf_trainScore))\n",
    "print('RandomForest Test Score: {}'.format(rf_testScore))"
   ]
  },
  {
   "cell_type": "code",
   "execution_count": 52,
   "metadata": {
    "scrolled": true
   },
   "outputs": [
    {
     "data": {
      "text/html": [
       "<div>\n",
       "<style scoped>\n",
       "    .dataframe tbody tr th:only-of-type {\n",
       "        vertical-align: middle;\n",
       "    }\n",
       "\n",
       "    .dataframe tbody tr th {\n",
       "        vertical-align: top;\n",
       "    }\n",
       "\n",
       "    .dataframe thead th {\n",
       "        text-align: right;\n",
       "    }\n",
       "</style>\n",
       "<table border=\"1\" class=\"dataframe\">\n",
       "  <thead>\n",
       "    <tr style=\"text-align: right;\">\n",
       "      <th></th>\n",
       "      <th>Random Forest Model</th>\n",
       "      <th>CrossVal Score</th>\n",
       "      <th>Train Score</th>\n",
       "      <th>Test Score</th>\n",
       "    </tr>\n",
       "  </thead>\n",
       "  <tbody>\n",
       "    <tr>\n",
       "      <td>0</td>\n",
       "      <td>Default</td>\n",
       "      <td>0.857762</td>\n",
       "      <td>0.994988</td>\n",
       "      <td>0.871716</td>\n",
       "    </tr>\n",
       "    <tr>\n",
       "      <td>1</td>\n",
       "      <td>Hyperparameter</td>\n",
       "      <td>0.855010</td>\n",
       "      <td>0.907209</td>\n",
       "      <td>0.871126</td>\n",
       "    </tr>\n",
       "  </tbody>\n",
       "</table>\n",
       "</div>"
      ],
      "text/plain": [
       "  Random Forest Model  CrossVal Score  Train Score  Test Score\n",
       "0             Default        0.857762     0.994988    0.871716\n",
       "1      Hyperparameter        0.855010     0.907209    0.871126"
      ]
     },
     "execution_count": 52,
     "metadata": {},
     "output_type": "execute_result"
    }
   ],
   "source": [
    "compare_rfc = pd.DataFrame({'Random Forest Model' : ['Default', 'Hyperparameter'], \n",
    "                            'CrossVal Score': [rfc_score, rf_score],\n",
    "                           'Train Score': [rfc_trainScore, rf_trainScore],\n",
    "                           'Test Score': [rfc_testScore, rf_testScore]})\n",
    "\n",
    "compare_rfc.head()"
   ]
  },
  {
   "cell_type": "markdown",
   "metadata": {},
   "source": [
    "The defaut model is slightly better that the tuned one. It's interesting to see, maybe we can add some parameters to get the best one for future analysis and until I get the powerful device to do so. For now, we stick to the result above and will use the default one to predict."
   ]
  },
  {
   "cell_type": "code",
   "execution_count": 53,
   "metadata": {},
   "outputs": [],
   "source": [
    "prediction = rfc.predict(X_test)"
   ]
  },
  {
   "cell_type": "code",
   "execution_count": 54,
   "metadata": {},
   "outputs": [
    {
     "data": {
      "image/png": "[encoded data removed]",
      "text/plain": [
       "<Figure size 576x360 with 2 Axes>"
      ]
     },
     "metadata": {},
     "output_type": "display_data"
    }
   ],
   "source": [
    "conf_matrix = confusion_matrix(y_test, prediction)\n",
    "\n",
    "f, ax = plt.subplots(figsize=(8,5))\n",
    "sns.heatmap(conf_matrix, annot=True, fmt=\".0f\", ax=ax)\n",
    "\n",
    "labels = ['Cancelled', 'Not Cancelled']\n",
    "\n",
    "ax.xaxis.set_ticklabels(labels)\n",
    "ax.yaxis.set_ticklabels(labels)\n",
    "\n",
    "plt.title('Random Forest Classifier')\n",
    "plt.xlabel('Predicted')\n",
    "plt.ylabel('Actual')\n",
    "plt.show()"
   ]
  },
  {
   "cell_type": "markdown",
   "metadata": {},
   "source": [
    "### Feature Importances"
   ]
  },
  {
   "cell_type": "code",
   "execution_count": 55,
   "metadata": {},
   "outputs": [],
   "source": [
    "from sklearn.metrics import r2_score\n",
    "from rfpimp import permutation_importances\n",
    "\n",
    "def r2(rf, X_train, y_train):\n",
    "    return r2_score(y_train, rfc.predict(X_train))\n",
    "\n",
    "perm_imp_rfpimp = permutation_importances(rf, X_train, y_train, r2)"
   ]
  },
  {
   "cell_type": "code",
   "execution_count": 56,
   "metadata": {},
   "outputs": [
    {
     "data": {
      "text/plain": [
       "Text(0.5, 0, 'Feature Importances (%)')"
      ]
     },
     "execution_count": 56,
     "metadata": {},
     "output_type": "execute_result"
    },
    {
     "data": {
      "image/png": "[encoded data removed]",
      "text/plain": [
       "<Figure size 432x288 with 1 Axes>"
      ]
     },
     "metadata": {},
     "output_type": "display_data"
    }
   ],
   "source": [
    "pd.DataFrame(data = rf.feature_importances_*100,\n",
    "                   columns = [\"Importances\"],\n",
    "                   index = X_train.columns).sort_values(\"Importances\", ascending = False)[:15].plot(kind = \"barh\", color = \"r\")\n",
    "\n",
    "plt.xlabel(\"Feature Importances (%)\")"
   ]
  },
  {
   "cell_type": "markdown",
   "metadata": {},
   "source": [
    "From the plot above, we can see _**lead_time**_ is the most important feature and has the most valuable feature in our prediction model. It makes sense because the longer the time gap between room booked and guest arrival, the greater possibility guests cancel their booking. Therefore, hotels can pay attention more about their cancellation policy regarding how long the lead time is."
   ]
  },
  {
   "cell_type": "markdown",
   "metadata": {},
   "source": [
    "### Deploy Model"
   ]
  },
  {
   "cell_type": "code",
   "execution_count": 58,
   "metadata": {},
   "outputs": [
    {
     "data": {
      "text/plain": [
       "['RandomForestClassifierModel']"
      ]
     },
     "execution_count": 58,
     "metadata": {},
     "output_type": "execute_result"
    }
   ],
   "source": [
    "import joblib\n",
    "joblib.dump(rfc, \"RandomForestClassifierModel\")"
   ]
  },
  {
   "cell_type": "code",
   "execution_count": null,
   "metadata": {},
   "outputs": [],
   "source": []
  }
 ],
 "metadata": {
  "kernelspec": {
   "display_name": "Python 3",
   "language": "python",
   "name": "python3"
  },
  "language_info": {
   "codemirror_mode": {
    "name": "ipython",
    "version": 3
   },
   "file_extension": ".py",
   "mimetype": "text/x-python",
   "name": "python",
   "nbconvert_exporter": "python",
   "pygments_lexer": "ipython3",
   "version": "3.7.4"
  }
 },
 "nbformat": 4,
 "nbformat_minor": 2
}
